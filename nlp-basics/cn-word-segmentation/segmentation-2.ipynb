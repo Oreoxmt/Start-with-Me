{
 "cells": [
  {
   "cell_type": "code",
   "execution_count": 1,
   "metadata": {},
   "outputs": [
    {
     "name": "stdout",
     "output_type": "stream",
     "text": [
      "Text:\n",
      "我能吞下玻璃而不伤身体是由 Ethan Mollick 在早期互联网上发起的语言学项目。该项目的目的是收集不同语言中「我能吞下玻璃而不伤身体」这句话的翻译。该项目的原始网页于 2004 年消失。\n",
      "Mollick 解释道，旅行者到达外国时，会有一种「不可抑制的冲动」想要用当地语言说些什么，但无论说什么都会让当地人认为他只是个游客。但是，如果旅行者能用地道的当地语言说一句类似「我能吞下玻璃而不伤身体」这样不同寻常的话，则能让旅行者「获得当地人的尊重」。\n",
      "该项目在志愿者的贡献下增长到超过 150 种语言，包括不少人造或虚构语言，以及多种计算机语言。它最终变成了一个网络模因。\n",
      "Text length:287\n"
     ]
    }
   ],
   "source": [
    "with open(\"resources/i-can-eat-glass.txt\", encoding = \"utf-8\") as f:\n",
    "    text = f.read()\n",
    "print(\"Text:\\n{}\\nText length:{}\".format(text, len(text)))"
   ]
  },
  {
   "cell_type": "markdown",
   "metadata": {},
   "source": [
    "## PyNLPIR\n",
    "https://pynlpir.readthedocs.io/en/latest/api.html#pynlpir.segment"
   ]
  },
  {
   "cell_type": "code",
   "execution_count": 2,
   "metadata": {},
   "outputs": [],
   "source": [
    "import pynlpir"
   ]
  },
  {
   "cell_type": "code",
   "execution_count": 3,
   "metadata": {},
   "outputs": [],
   "source": [
    "pynlpir.open()"
   ]
  },
  {
   "cell_type": "code",
   "execution_count": 4,
   "metadata": {},
   "outputs": [],
   "source": [
    "nlpir_result = pynlpir.segment(text)"
   ]
  },
  {
   "cell_type": "code",
   "execution_count": 5,
   "metadata": {},
   "outputs": [
    {
     "name": "stdout",
     "output_type": "stream",
     "text": [
      "Orig:[('我', 'pronoun'), ('能', 'verb'), ('吞', 'verb'), ('下', 'verb'), ('玻璃', 'noun'), ('而', 'conjunction'), ('不', 'adverb'), ('伤', 'verb'), ('身体', 'noun'), ('是', 'verb')]\n",
      "Len:185\n"
     ]
    }
   ],
   "source": [
    "print(\"Orig:{}\\nLen:{}\".format(nlpir_result[:10], len(nlpir_result)))"
   ]
  },
  {
   "cell_type": "code",
   "execution_count": 6,
   "metadata": {},
   "outputs": [
    {
     "name": "stdout",
     "output_type": "stream",
     "text": [
      "No tagging :['我', '能', '吞', '下', '玻璃', '而', '不', '伤', '身体', '是'] \n",
      "Len:185\n"
     ]
    }
   ],
   "source": [
    "nlpir_result_notagging = pynlpir.segment(text, pos_tagging = False)\n",
    "print(\"No tagging :{} \\nLen:{}\".format(nlpir_result_notagging[:10],len(nlpir_result_notagging)))"
   ]
  },
  {
   "cell_type": "code",
   "execution_count": 7,
   "metadata": {},
   "outputs": [
    {
     "name": "stdout",
     "output_type": "stream",
     "text": [
      "Child :[('我', 'personal pronoun'), ('能', 'verb'), ('吞', 'verb'), ('下', 'directional verb'), ('玻璃', 'noun'), ('而', 'coordinating conjunction'), ('不', 'adverb'), ('伤', 'verb'), ('身体', 'noun'), ('是', 'verb 是')]\n",
      "Len:185\n"
     ]
    }
   ],
   "source": [
    "nlpir_result_child = pynlpir.segment(text, pos_names = \"child\")\n",
    "print(\"Child :{}\\nLen:{}\".format(nlpir_result_child[:10], len(nlpir_result_child)))"
   ]
  },
  {
   "cell_type": "code",
   "execution_count": 8,
   "metadata": {},
   "outputs": [
    {
     "name": "stdout",
     "output_type": "stream",
     "text": [
      "Child Chinese :[('我', '人称代词'), ('能', '动词'), ('吞', '动词'), ('下', '趋向动词'), ('玻璃', '名词'), ('而', '并列连词'), ('不', '副词'), ('伤', '动词'), ('身体', '名词'), ('是', '动词\"是\"')]\n",
      "Len:185\n"
     ]
    }
   ],
   "source": [
    "nlpir_result_child_cn = pynlpir.segment(text, pos_names = \"child\", pos_english = False)\n",
    "print(\"Child Chinese :{}\\nLen:{}\".format(nlpir_result_child_cn[:10],len(nlpir_result_child_cn)))"
   ]
  },
  {
   "cell_type": "code",
   "execution_count": 9,
   "metadata": {},
   "outputs": [
    {
     "name": "stdout",
     "output_type": "stream",
     "text": [
      "word parent\tchild \t\tcn\n",
      "我 , pronoun , personal pronoun , 人称代词\n",
      "能 , verb , verb , 动词\n",
      "吞 , verb , verb , 动词\n",
      "下 , verb , directional verb , 趋向动词\n",
      "玻璃 , noun , noun , 名词\n",
      "而 , conjunction , coordinating conjunction , 并列连词\n",
      "不 , adverb , adverb , 副词\n",
      "伤 , verb , verb , 动词\n",
      "身体 , noun , noun , 名词\n",
      "是 , verb , verb 是 , 动词\"是\"\n"
     ]
    }
   ],
   "source": [
    "print(\"word parent\\tchild \\t\\tcn\")\n",
    "for orig, child, child_cn, _ in zip(nlpir_result, nlpir_result_child, nlpir_result_child_cn, range(10)):\n",
    "    print(\"{} , {} , {} , {}\".format(orig[0], orig[1], child[1], child_cn[1]))"
   ]
  },
  {
   "cell_type": "code",
   "execution_count": 10,
   "metadata": {},
   "outputs": [],
   "source": [
    "import pandas as pd"
   ]
  },
  {
   "cell_type": "code",
   "execution_count": 11,
   "metadata": {},
   "outputs": [
    {
     "name": "stdout",
     "output_type": "stream",
     "text": [
      "Empty DataFrame\n",
      "Columns: [word, parent, child, child_cn]\n",
      "Index: []\n"
     ]
    }
   ],
   "source": [
    "df = pd.DataFrame(columns = [\"word\", \"parent\", \"child\", \"child_cn\"])\n",
    "print(df)"
   ]
  },
  {
   "cell_type": "code",
   "execution_count": 12,
   "metadata": {},
   "outputs": [
    {
     "name": "stdout",
     "output_type": "stream",
     "text": [
      "    word            parent                             child child_cn\n",
      "0      我           pronoun                  personal pronoun     人称代词\n",
      "1      能              verb                              verb       动词\n",
      "2      吞              verb                              verb       动词\n",
      "3      下              verb                  directional verb     趋向动词\n",
      "4     玻璃              noun                              noun       名词\n",
      "..   ...               ...                               ...      ...\n",
      "180    了          particle                      particle 了/喽      了／喽\n",
      "181   一个           numeral  numeral-plus-classifier compound      数量词\n",
      "182   网络              noun                              noun       名词\n",
      "183   模因              noun                              noun       名词\n",
      "184    。  punctuation mark                            period       句号\n",
      "\n",
      "[185 rows x 4 columns]\n"
     ]
    }
   ],
   "source": [
    "for orig, child, child_cn, i in zip(nlpir_result, nlpir_result_child, nlpir_result_child_cn, range(len(nlpir_result))):\n",
    "    row = {\"word\" : orig[0], \"parent\" :orig[1], \"child\" :child[1], \"child_cn\" : child_cn[1]}\n",
    "    df.loc[i] = row\n",
    "print(df)"
   ]
  },
  {
   "cell_type": "code",
   "execution_count": 13,
   "metadata": {},
   "outputs": [
    {
     "name": "stdout",
     "output_type": "stream",
     "text": [
      "我/能/吞/下/玻璃/而/不/伤/身体/是/由/ /Ethan/ /Mollick/ /在/早期/互联网/上/发起/的/语言学/项目/。/该/项目/的/目的/是/收集/不同/语言/中/「/我/能/吞/下/玻璃/而/不/伤/身体/」/这/句/话/的/翻译/。/该/项目/的/原始/网页/于/ /2004/ /年/消失/。/\n",
      "Mollick/ /解释/道/，/旅行者/到达/外国/时/，/会/有/一/种/「/不可/抑制/的/冲动/」/想/要/用/当地/语言/说/些/什么/，/但/无论/说/什么/都/会/让/当地人/认为/他/只/是/个/游客/。/但是/，/如果/旅行者/能/用/地道/的/当地/语言/说/一/句/类似/「/我/能/吞/下/玻璃/而/不/伤/身体/」/这样/不同寻常/的/话/，/则/能/让/旅行者/「/获得/当地人/的/尊重/」/。/\n",
      "该/项目/在/志愿者/的/贡献/下/增长/到/超过/ /150/ /种/语言/，/包括/不少/人造/或/虚构/语言/，/以及/多/种/计算机/语言/。/它/最终/变成/了/一个/网络/模因/。\n"
     ]
    }
   ],
   "source": [
    "print(\"/\".join(nlpir_result_notagging))"
   ]
  },
  {
   "cell_type": "code",
   "execution_count": 14,
   "metadata": {},
   "outputs": [
    {
     "data": {
      "text/plain": [
       "2"
      ]
     },
     "execution_count": 14,
     "metadata": {},
     "output_type": "execute_result"
    }
   ],
   "source": [
    "pynlpir.nlpir.AddUserWord(\"模因\".encode())"
   ]
  },
  {
   "cell_type": "code",
   "execution_count": 15,
   "metadata": {},
   "outputs": [
    {
     "name": "stdout",
     "output_type": "stream",
     "text": [
      "我/能/吞/下/玻璃/而/不/伤/身体/是/由/ /Ethan/ /Mollick/ /在/早期/互联网/上/发起/的/语言学/项目/。/该/项目/的/目的/是/收集/不同/语言/中/「/我/能/吞/下/玻璃/而/不/伤/身体/」/这/句/话/的/翻译/。/该/项目/的/原始/网页/于/ /2004/ /年/消失/。/\n",
      "Mollick/ /解释/道/，/旅行者/到达/外国/时/，/会/有/一/种/「/不可/抑制/的/冲动/」/想/要/用/当地/语言/说/些/什么/，/但/无论/说/什么/都/会/让/当地人/认为/他/只/是/个/游客/。/但是/，/如果/旅行者/能/用/地道/的/当地/语言/说/一/句/类似/「/我/能/吞/下/玻璃/而/不/伤/身体/」/这样/不同寻常/的/话/，/则/能/让/旅行者/「/获得/当地人/的/尊重/」/。/\n",
      "该/项目/在/志愿者/的/贡献/下/增长/到/超过/ /150/ /种/语言/，/包括/不少/人造/或/虚构/语言/，/以及/多/种/计算机/语言/。/它/最终/变成/了/一个/网络/模因/。\n"
     ]
    }
   ],
   "source": [
    "print(\"/\".join(pynlpir.segment(text, pos_tagging = False)))"
   ]
  },
  {
   "cell_type": "code",
   "execution_count": 18,
   "metadata": {},
   "outputs": [
    {
     "data": {
      "text/plain": [
       "['语言', '旅行者', '项目', '当地人', '身体', 'Ethan', 'Mollick', '模因', '早期', '玻璃']"
      ]
     },
     "execution_count": 18,
     "metadata": {},
     "output_type": "execute_result"
    }
   ],
   "source": [
    "pynlpir.get_key_words(text, max_words = 10)"
   ]
  },
  {
   "cell_type": "code",
   "execution_count": null,
   "metadata": {},
   "outputs": [],
   "source": []
  },
  {
   "cell_type": "code",
   "execution_count": null,
   "metadata": {},
   "outputs": [],
   "source": []
  },
  {
   "cell_type": "code",
   "execution_count": null,
   "metadata": {},
   "outputs": [],
   "source": []
  }
 ],
 "metadata": {
  "kernelspec": {
   "display_name": "Python 3",
   "language": "python",
   "name": "python3"
  },
  "language_info": {
   "codemirror_mode": {
    "name": "ipython",
    "version": 3
   },
   "file_extension": ".py",
   "mimetype": "text/x-python",
   "name": "python",
   "nbconvert_exporter": "python",
   "pygments_lexer": "ipython3",
   "version": "3.8.2"
  }
 },
 "nbformat": 4,
 "nbformat_minor": 4
}
