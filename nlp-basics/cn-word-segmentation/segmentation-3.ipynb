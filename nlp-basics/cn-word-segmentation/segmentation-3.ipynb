{
 "cells": [
  {
   "cell_type": "code",
   "execution_count": 1,
   "metadata": {},
   "outputs": [],
   "source": [
    "with open(\"resources/i-can-eat-glass.txt\", encoding = \"utf-8\") as f:\n",
    "    text = f.read()\n",
    "print(\"Text:\\n{}\\nText length:{}\".format(text, len(text)))"
   ]
  },
  {
   "cell_type": "markdown",
   "metadata": {},
   "source": [
    "## pkuseg\n",
    "https://github.com/lancopku/pkuseg-python"
   ]
  },
  {
   "cell_type": "code",
   "execution_count": 2,
   "metadata": {},
   "outputs": [],
   "source": [
    "import pkuseg"
   ]
  },
  {
   "cell_type": "markdown",
   "metadata": {},
   "source": [
    "* 使用默认配置`seg = pkuseg.pkuseg()`分词"
   ]
  },
  {
   "cell_type": "code",
   "execution_count": 3,
   "metadata": {},
   "outputs": [],
   "source": [
    "seg = pkuseg.pkuseg()"
   ]
  },
  {
   "cell_type": "code",
   "execution_count": 4,
   "metadata": {},
   "outputs": [],
   "source": [
    "pku_result = seg.cut(text)"
   ]
  },
  {
   "cell_type": "code",
   "execution_count": 5,
   "metadata": {},
   "outputs": [
    {
     "name": "stdout",
     "output_type": "stream",
     "text": [
      "['我', '能', '吞下', '玻璃', '而', '不', '伤', '身体', '是', '由', 'Ethan', 'Mollick', '在', '早期', '互联网', '上', '发起', '的', '语言学', '项目', '。', '该', '项目', '的', '目的', '是', '收集', '不同', '语言', '中', '「', '我', '能', '吞下', '玻璃', '而', '不', '伤', '身体', '」', '这', '句', '话', '的', '翻译', '。', '该', '项目', '的', '原始', '网页', '于', '2004', '年', '消失', '。', 'Mollick', '解释', '道', '，', '旅行者', '到达', '外国', '时', '，', '会', '有', '一', '种', '「', '不可', '抑制', '的', '冲动', '」', '想', '要', '用', '当地', '语言', '说', '些', '什么', '，', '但', '无论', '说', '什么', '都会', '让', '当地人', '认为', '他', '只是', '个', '游客', '。', '但是', '，', '如果', '旅行者', '能', '用', '地道', '的', '当地', '语言', '说', '一', '句', '类似', '「', '我', '能', '吞下', '玻璃', '而', '不', '伤', '身体', '」', '这样', '不同寻常', '的话', '，', '则', '能', '让', '旅行者', '「', '获得', '当地人', '的', '尊重', '」', '。', '该', '项目', '在', '志愿者', '的', '贡献', '下', '增长', '到', '超过', '150', '种', '语言', '，', '包括', '不少', '人造', '或', '虚构', '语言', '，', '以及', '多种', '计算机', '语言', '。', '它', '最终', '变成', '了', '一个', '网络', '模因', '。']\n"
     ]
    }
   ],
   "source": [
    "print(pku_result)"
   ]
  },
  {
   "cell_type": "markdown",
   "metadata": {},
   "source": [
    "* 不同的分词方法和参数\n",
    "   \n",
    "   `pkuseg.pkuseg(model_name = \"default\", user_dict = \"default\", postag = False)`\n",
    "\n",
    "    * model_name \n",
    "        * \"default\" 默认模型\n",
    "        * \"news\" 新闻\n",
    "        * \"web\" 网络\n",
    "        * \"medicine\" 医药\n",
    "        * \"tourism\" 旅游\n",
    "        * model_path 指定路径加载模型\n",
    "    * user_dict \n",
    "        * \"default\" 默认词典\n",
    "        * None 不使用词典\n",
    "        * dict_path 默认词典+自定义词典(格式：词tab词性(可省))\n",
    "    * postag\n",
    "        * False 默认不进行词性标注\n",
    "        * True 分词+词性标注"
   ]
  },
  {
   "cell_type": "markdown",
   "metadata": {},
   "source": [
    "* 使用其他模型/词性标注需要先下载对应的模型至/.pkuseg"
   ]
  },
  {
   "cell_type": "code",
   "execution_count": 6,
   "metadata": {},
   "outputs": [
    {
     "name": "stdout",
     "output_type": "stream",
     "text": [
      "[('我', 'r'), ('能', 'v'), ('吞下', 'v'), ('玻璃', 'n'), ('而', 'c'), ('不', 'd'), ('伤', 'v'), ('身体', 'n'), ('是', 'v'), ('由', 'p'), ('Ethan', 'n'), ('Mollick', 'v'), ('在', 'p'), ('早期', 'f'), ('互联网', 'n'), ('上', 'v'), ('发起', 'v'), ('的', 'u'), ('语言学', 'n'), ('项目', 'n'), ('。', 'w'), ('该', 'r'), ('项目', 'n'), ('的', 'u'), ('目的', 'n'), ('是', 'v'), ('收集', 'v'), ('不同', 'vn'), ('语言', 'n'), ('中', 'f'), ('「', 'v'), ('我', 'r'), ('能', 'v'), ('吞下', 'v'), ('玻璃', 'n'), ('而', 'c'), ('不', 'd'), ('伤', 'v'), ('身体', 'n'), ('」', 'v'), ('这', 'r'), ('句', 'q'), ('话', 'n'), ('的', 'u'), ('翻译', 'n'), ('。', 'w'), ('该', 'r'), ('项目', 'n'), ('的', 'u'), ('原始', 'a'), ('网页', 'n'), ('于', 'p'), ('2004', 'm'), ('年', 'q'), ('消失', 'v'), ('。', 'w'), ('Mollick', 'v'), ('解释', 'v'), ('道', 'v'), ('，', 'w'), ('旅行者', 'n'), ('到达', 'v'), ('外国', 'n'), ('时', 'n'), ('，', 'w'), ('会', 'v'), ('有', 'v'), ('一', 'm'), ('种', 'q'), ('「', 'n'), ('不可', 'v'), ('抑制', 'v'), ('的', 'u'), ('冲动', 'vn'), ('」', 'n'), ('想', 'v'), ('要', 'v'), ('用', 'p'), ('当地', 's'), ('语言', 'n'), ('说', 'v'), ('些', 'q'), ('什么', 'r'), ('，', 'w'), ('但', 'c'), ('无论', 'c'), ('说', 'v'), ('什么', 'r'), ('都会', 'n'), ('让', 'v'), ('当地人', 'n'), ('认为', 'v'), ('他', 'r'), ('只是', 'd'), ('个', 'q'), ('游客', 'n'), ('。', 'w'), ('但是', 'c'), ('，', 'w'), ('如果', 'c'), ('旅行者', 'n'), ('能', 'v'), ('用', 'p'), ('地道', 'n'), ('的', 'u'), ('当地', 's'), ('语言', 'n'), ('说', 'v'), ('一', 'm'), ('句', 'q'), ('类似', 'a'), ('「', 'n'), ('我', 'r'), ('能', 'v'), ('吞下', 'v'), ('玻璃', 'n'), ('而', 'c'), ('不', 'd'), ('伤', 'v'), ('身体', 'n'), ('」', 'v'), ('这样', 'r'), ('不同寻常', 'i'), ('的话', 'u'), ('，', 'w'), ('则', 'c'), ('能', 'v'), ('让', 'v'), ('旅行者', 'n'), ('「', 'v'), ('获得', 'v'), ('当地人', 'n'), ('的', 'u'), ('尊重', 'vn'), ('」', 'n'), ('。', 'w'), ('该', 'r'), ('项目', 'n'), ('在', 'p'), ('志愿者', 'n'), ('的', 'u'), ('贡献', 'n'), ('下', 'f'), ('增长', 'v'), ('到', 'v'), ('超过', 'v'), ('150', 'm'), ('种', 'q'), ('语言', 'n'), ('，', 'w'), ('包括', 'v'), ('不少', 'm'), ('人造', 'b'), ('或', 'c'), ('虚构', 'v'), ('语言', 'n'), ('，', 'w'), ('以及', 'c'), ('多种', 'm'), ('计算机', 'n'), ('语言', 'n'), ('。', 'w'), ('它', 'r'), ('最终', 'd'), ('变成', 'v'), ('了', 'u'), ('一个', 'm'), ('网络', 'n'), ('模因', 'n'), ('。', 'w')]\n"
     ]
    }
   ],
   "source": [
    "tag_seg = pkuseg.pkuseg(postag = True) \n",
    "pku_result_tag = tag_seg.cut(text)\n",
    "print(pku_result_tag)"
   ]
  },
  {
   "cell_type": "code",
   "execution_count": null,
   "metadata": {},
   "outputs": [],
   "source": []
  },
  {
   "cell_type": "code",
   "execution_count": null,
   "metadata": {},
   "outputs": [],
   "source": []
  }
 ],
 "metadata": {
  "kernelspec": {
   "display_name": "Python 3",
   "language": "python",
   "name": "python3"
  },
  "language_info": {
   "codemirror_mode": {
    "name": "ipython",
    "version": 3
   },
   "file_extension": ".py",
   "mimetype": "text/x-python",
   "name": "python",
   "nbconvert_exporter": "python",
   "pygments_lexer": "ipython3",
   "version": "3.8.2"
  }
 },
 "nbformat": 4,
 "nbformat_minor": 4
}
