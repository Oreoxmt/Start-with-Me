{
 "cells": [
  {
   "cell_type": "code",
   "execution_count": 1,
   "metadata": {},
   "outputs": [],
   "source": [
    "import requests\n",
    "from lxml import etree\n",
    "import json"
   ]
  },
  {
   "cell_type": "code",
   "execution_count": 2,
   "metadata": {},
   "outputs": [],
   "source": [
    "url = \"http://dblab.xmu.edu.cn/post/bigdata3ppt/\"\n",
    "ss = requests.Session()\n",
    "r = ss.get(url)\n",
    "r.encoding = \"utf-8\"# 解决中文乱码问题\n",
    "html = etree.HTML(r.text)"
   ]
  },
  {
   "cell_type": "code",
   "execution_count": 3,
   "metadata": {},
   "outputs": [],
   "source": [
    "content = html.xpath('//tbody//tr')[1:]\n",
    "allinfo = []\n",
    "for path in content:\n",
    "    info = {\n",
    "        \"name\":path.xpath('./td[1]/text()')[0],\n",
    "        \"ppt\":path.xpath('./td[2]/a/@href')[0],\n",
    "        \"pdf\":path.xpath('./td[3]/a/@href')[0]\n",
    "    }\n",
    "    allinfo.append(info)"
   ]
  },
  {
   "cell_type": "code",
   "execution_count": 4,
   "metadata": {},
   "outputs": [],
   "source": [
    "for info in allinfo:\n",
    "    filename = info[\"name\"]\n",
    "    with open(f\"{filename}.ppt\", \"wb\") as f:\n",
    "        resp = ss.get(info[\"ppt\"])\n",
    "        f.write(resp.content)"
   ]
  },
  {
   "cell_type": "code",
   "execution_count": 11,
   "metadata": {},
   "outputs": [
    {
     "name": "stdout",
     "output_type": "stream",
     "text": [
      "PPT - 第0章 课程介绍.ppt\n",
      "PPT - PPT - 第0章 课程介绍.ppt\n",
      "PPT - 第10章 Spark.ppt\n",
      "PPT - PPT - 第10章 Spark.ppt\n",
      "PPT - 第11章 流计算.ppt\n",
      "PPT - PPT - 第11章 流计算.ppt\n",
      "PPT - 第12章 Flink.ppt\n",
      "PPT - PPT - 第12章 Flink.ppt\n",
      "PPT - 第13章 图计算.ppt\n",
      "PPT - PPT - 第13章 图计算.ppt\n",
      "PPT - 第14章 数据可视化.ppt\n",
      "PPT - PPT - 第14章 数据可视化.ppt\n",
      "PPT - 第15章大数据应用.ppt\n",
      "PPT - PPT - 第15章大数据应用.ppt\n",
      "PPT - 第1章 大数据概述.ppt\n",
      "PPT - PPT - 第1章 大数据概述.ppt\n",
      "PPT - 第2章 大数据处理架构Hadoop.ppt\n",
      "PPT - PPT - 第2章 大数据处理架构Hadoop.ppt\n",
      "PPT - 第3章 分布式文件系统HDFS.ppt\n",
      "PPT - PPT - 第3章 分布式文件系统HDFS.ppt\n",
      "PPT - 第4章 分布式数据库HBase.ppt\n",
      "PPT - PPT - 第4章 分布式数据库HBase.ppt\n",
      "PPT - 第5章 NoSQL数据库.ppt\n",
      "PPT - PPT - 第5章 NoSQL数据库.ppt\n",
      "PPT - 第6章 云数据库.ppt\n",
      "PPT - PPT - 第6章 云数据库.ppt\n",
      "PPT - 第7章 MapReduce.ppt\n",
      "PPT - PPT - 第7章 MapReduce.ppt\n",
      "PPT - 第8章 Hadoop再探讨.ppt\n",
      "PPT - PPT - 第8章 Hadoop再探讨.ppt\n",
      "PPT - 第9章 数据仓库Hive.ppt\n",
      "PPT - PPT - 第9章 数据仓库Hive.ppt\n"
     ]
    }
   ],
   "source": [
    "import os\n",
    "os.chdir(r\"./PPT\")\n",
    "\n",
    "for name in os.listdir():\n",
    "    if name.endswith(\".ppt\"):\n",
    "        print(name)\n",
    "        newname = \"PPT - \" + name\n",
    "        print(newname)\n",
    "        os.rename(name, newname)"
   ]
  }
 ],
 "metadata": {
  "kernelspec": {
   "display_name": "Python 3",
   "language": "python",
   "name": "python3"
  },
  "language_info": {
   "codemirror_mode": {
    "name": "ipython",
    "version": 3
   },
   "file_extension": ".py",
   "mimetype": "text/x-python",
   "name": "python",
   "nbconvert_exporter": "python",
   "pygments_lexer": "ipython3",
   "version": "3.8.2"
  }
 },
 "nbformat": 4,
 "nbformat_minor": 4
}
